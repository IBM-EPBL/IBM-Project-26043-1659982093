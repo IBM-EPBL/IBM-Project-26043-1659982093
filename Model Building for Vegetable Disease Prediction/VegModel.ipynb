{
 "cells": [
  {
   "cell_type": "code",
   "execution_count": 1,
   "id": "418c3ca9",
   "metadata": {},
   "outputs": [],
   "source": [
    "from keras.preprocessing.image import ImageDataGenerator\n",
    "train_datagen=ImageDataGenerator(rescale=1./255,shear_range=0.2,zoom_range=0.2,horizontal_flip=True)\n",
    "test_datagen=ImageDataGenerator(rescale=1)"
   ]
  },
  {
   "cell_type": "code",
   "execution_count": 2,
   "id": "50cdfbd3",
   "metadata": {},
   "outputs": [
    {
     "name": "stdout",
     "output_type": "stream",
     "text": [
      "Found 11386 images belonging to 9 classes.\n",
      "Found 3416 images belonging to 9 classes.\n"
     ]
    }
   ],
   "source": [
    "x_train=train_datagen.flow_from_directory(r'C:\\Users\\LENOVO\\Downloads\\Data Collection\\Dataset Plant Disease\\Veg-dataset\\Veg-dataset\\train_set',target_size=(128,128),batch_size=32,class_mode='categorical')\n",
    "x_test=test_datagen.flow_from_directory(r'C:\\Users\\LENOVO\\Downloads\\Data Collection\\Dataset Plant Disease\\Veg-dataset\\Veg-dataset\\test_set',target_size=(128,128),batch_size=32,class_mode='categorical')"
   ]
  },
  {
   "cell_type": "code",
   "execution_count": 3,
   "id": "5b5f1cb6",
   "metadata": {},
   "outputs": [],
   "source": [
    "from keras.models import Sequential\n",
    "from keras.layers import Dense\n",
    "from keras.layers import Convolution2D\n",
    "from keras.layers import MaxPooling2D\n",
    "from keras.layers import Flatten"
   ]
  },
  {
   "cell_type": "code",
   "execution_count": 4,
   "id": "7d8577e8",
   "metadata": {},
   "outputs": [],
   "source": [
    "model=Sequential()"
   ]
  },
  {
   "cell_type": "code",
   "execution_count": 5,
   "id": "9cb7dce6",
   "metadata": {},
   "outputs": [],
   "source": [
    "model.add(Convolution2D(32,(3,3),input_shape=(128,128,3),activation='relu'))"
   ]
  },
  {
   "cell_type": "code",
   "execution_count": 6,
   "id": "b2f394ca",
   "metadata": {},
   "outputs": [],
   "source": [
    "model.add(MaxPooling2D(pool_size=(2,2)))"
   ]
  },
  {
   "cell_type": "code",
   "execution_count": 7,
   "id": "0d4154e0",
   "metadata": {},
   "outputs": [],
   "source": [
    "model.add(Flatten())"
   ]
  },
  {
   "cell_type": "code",
   "execution_count": 8,
   "id": "96f94e32",
   "metadata": {},
   "outputs": [],
   "source": [
    "model.add(Dense(units=300,kernel_initializer='uniform',activation='relu'))"
   ]
  },
  {
   "cell_type": "code",
   "execution_count": 9,
   "id": "8aaecec3",
   "metadata": {},
   "outputs": [],
   "source": [
    "model.add(Dense(units=150,kernel_initializer='uniform',activation='relu'))"
   ]
  },
  {
   "cell_type": "code",
   "execution_count": 10,
   "id": "dde0c69a",
   "metadata": {},
   "outputs": [],
   "source": [
    "model.add(Dense(units=75,kernel_initializer='uniform',activation='relu'))"
   ]
  },
  {
   "cell_type": "code",
   "execution_count": 11,
   "id": "ef683ed6",
   "metadata": {},
   "outputs": [],
   "source": [
    "model.add(Dense(units=9,kernel_initializer='uniform',activation='softmax'))"
   ]
  },
  {
   "cell_type": "code",
   "execution_count": 12,
   "id": "4aab5c7b",
   "metadata": {},
   "outputs": [],
   "source": [
    "model.compile(loss='categorical_crossentropy',optimizer=\"adam\",metrics=[\"accuracy\"])"
   ]
  },
  {
   "cell_type": "code",
   "execution_count": 13,
   "id": "c67c6ad3",
   "metadata": {},
   "outputs": [
    {
     "name": "stdout",
     "output_type": "stream",
     "text": [
      "Epoch 1/20\n",
      "89/89 [==============================] - 112s 1s/step - loss: 2.0695 - accuracy: 0.1917 - val_loss: 103.5608 - val_accuracy: 0.3322\n",
      "Epoch 2/20\n",
      "89/89 [==============================] - 101s 1s/step - loss: 1.6226 - accuracy: 0.3841 - val_loss: 139.2850 - val_accuracy: 0.4572\n",
      "Epoch 3/20\n",
      "89/89 [==============================] - 92s 1s/step - loss: 1.2889 - accuracy: 0.5302 - val_loss: 304.8602 - val_accuracy: 0.4155\n",
      "Epoch 4/20\n",
      "89/89 [==============================] - 83s 927ms/step - loss: 1.0858 - accuracy: 0.6011 - val_loss: 374.8069 - val_accuracy: 0.4398\n",
      "Epoch 5/20\n",
      "89/89 [==============================] - 88s 989ms/step - loss: 0.8153 - accuracy: 0.7159 - val_loss: 875.5496 - val_accuracy: 0.3449\n",
      "Epoch 6/20\n",
      "89/89 [==============================] - 82s 919ms/step - loss: 0.7305 - accuracy: 0.7454 - val_loss: 1285.6295 - val_accuracy: 0.2697\n",
      "Epoch 7/20\n",
      "89/89 [==============================] - 75s 844ms/step - loss: 0.6058 - accuracy: 0.7862 - val_loss: 1397.6685 - val_accuracy: 0.2789\n",
      "Epoch 8/20\n",
      "89/89 [==============================] - 77s 867ms/step - loss: 0.6096 - accuracy: 0.7837 - val_loss: 1667.3693 - val_accuracy: 0.2697\n",
      "Epoch 9/20\n",
      "89/89 [==============================] - 83s 927ms/step - loss: 0.5590 - accuracy: 0.8016 - val_loss: 1637.4575 - val_accuracy: 0.2882\n",
      "Epoch 10/20\n",
      "89/89 [==============================] - 81s 911ms/step - loss: 0.5191 - accuracy: 0.8188 - val_loss: 1695.4454 - val_accuracy: 0.3021\n",
      "Epoch 11/20\n",
      "89/89 [==============================] - 78s 877ms/step - loss: 0.5165 - accuracy: 0.8114 - val_loss: 1440.0924 - val_accuracy: 0.3623\n",
      "Epoch 12/20\n",
      "89/89 [==============================] - 71s 802ms/step - loss: 0.4544 - accuracy: 0.8371 - val_loss: 2165.5754 - val_accuracy: 0.2859\n",
      "Epoch 13/20\n",
      "89/89 [==============================] - 71s 799ms/step - loss: 0.4431 - accuracy: 0.8427 - val_loss: 1873.1349 - val_accuracy: 0.2465\n",
      "Epoch 14/20\n",
      "89/89 [==============================] - 77s 866ms/step - loss: 0.3786 - accuracy: 0.8673 - val_loss: 1682.1049 - val_accuracy: 0.3079\n",
      "Epoch 15/20\n",
      "89/89 [==============================] - 82s 918ms/step - loss: 0.3661 - accuracy: 0.8666 - val_loss: 1850.1375 - val_accuracy: 0.2616\n",
      "Epoch 16/20\n",
      "89/89 [==============================] - 85s 958ms/step - loss: 0.4155 - accuracy: 0.8638 - val_loss: 1593.3822 - val_accuracy: 0.2627\n",
      "Epoch 17/20\n",
      "89/89 [==============================] - 76s 842ms/step - loss: 0.3801 - accuracy: 0.8659 - val_loss: 1243.2029 - val_accuracy: 0.4120\n",
      "Epoch 18/20\n",
      "89/89 [==============================] - 80s 898ms/step - loss: 0.3904 - accuracy: 0.8596 - val_loss: 1869.4033 - val_accuracy: 0.2407\n",
      "Epoch 19/20\n",
      "89/89 [==============================] - 84s 945ms/step - loss: 0.3627 - accuracy: 0.8775 - val_loss: 1137.9041 - val_accuracy: 0.4352\n",
      "Epoch 20/20\n",
      "89/89 [==============================] - 77s 863ms/step - loss: 0.2996 - accuracy: 0.8943 - val_loss: 1829.2874 - val_accuracy: 0.3032\n"
     ]
    },
    {
     "data": {
      "text/plain": [
       "<keras.callbacks.History at 0x213db377910>"
      ]
     },
     "execution_count": 13,
     "metadata": {},
     "output_type": "execute_result"
    }
   ],
   "source": [
    "model.fit(x_train,steps_per_epoch=89,epochs=20,validation_data=x_test,validation_steps=27)"
   ]
  },
  {
   "cell_type": "code",
   "execution_count": 14,
   "id": "91531884",
   "metadata": {},
   "outputs": [],
   "source": [
    "model.save('vegetabledata.h5')"
   ]
  },
  {
   "cell_type": "code",
   "execution_count": 15,
   "id": "7b734abb",
   "metadata": {},
   "outputs": [
    {
     "name": "stdout",
     "output_type": "stream",
     "text": [
      "Model: \"sequential\"\n",
      "_________________________________________________________________\n",
      " Layer (type)                Output Shape              Param #   \n",
      "=================================================================\n",
      " conv2d (Conv2D)             (None, 126, 126, 32)      896       \n",
      "                                                                 \n",
      " max_pooling2d (MaxPooling2D  (None, 63, 63, 32)       0         \n",
      " )                                                               \n",
      "                                                                 \n",
      " flatten (Flatten)           (None, 127008)            0         \n",
      "                                                                 \n",
      " dense (Dense)               (None, 300)               38102700  \n",
      "                                                                 \n",
      " dense_1 (Dense)             (None, 150)               45150     \n",
      "                                                                 \n",
      " dense_2 (Dense)             (None, 75)                11325     \n",
      "                                                                 \n",
      " dense_3 (Dense)             (None, 9)                 684       \n",
      "                                                                 \n",
      "=================================================================\n",
      "Total params: 38,160,755\n",
      "Trainable params: 38,160,755\n",
      "Non-trainable params: 0\n",
      "_________________________________________________________________\n"
     ]
    }
   ],
   "source": [
    "model.summary()"
   ]
  },
  {
   "cell_type": "code",
   "execution_count": null,
   "id": "fa14e682",
   "metadata": {},
   "outputs": [],
   "source": []
  }
 ],
 "metadata": {
  "kernelspec": {
   "display_name": "Python 3 (ipykernel)",
   "language": "python",
   "name": "python3"
  },
  "language_info": {
   "codemirror_mode": {
    "name": "ipython",
    "version": 3
   },
   "file_extension": ".py",
   "mimetype": "text/x-python",
   "name": "python",
   "nbconvert_exporter": "python",
   "pygments_lexer": "ipython3",
   "version": "3.9.12"
  }
 },
 "nbformat": 4,
 "nbformat_minor": 5
}
