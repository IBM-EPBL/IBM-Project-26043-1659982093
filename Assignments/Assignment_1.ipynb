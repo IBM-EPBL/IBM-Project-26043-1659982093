{
 "cells": [
  {
   "cell_type": "code",
   "execution_count": 2,
   "id": "0abc7806",
   "metadata": {},
   "outputs": [
    {
     "name": "stdout",
     "output_type": "stream",
     "text": [
      "Hi\n",
      "there\n",
      "Sam!\n"
     ]
    }
   ],
   "source": [
    "#1\n",
    "s = \"Hi there Sam!\"\n",
    "str=s.split(\" \")\n",
    "for x in str:\n",
    "    print(x)"
   ]
  },
  {
   "cell_type": "code",
   "execution_count": 3,
   "id": "0467850c",
   "metadata": {},
   "outputs": [
    {
     "name": "stdout",
     "output_type": "stream",
     "text": [
      "The diameter of Earth is 12742 kilometers.\n"
     ]
    }
   ],
   "source": [
    "#2\n",
    "planet = \"Earth\"\n",
    "diameter = 12742\n",
    "print( 'The diameter of {} is {} kilometers.' .format(planet,diameter));"
   ]
  },
  {
   "cell_type": "code",
   "execution_count": 4,
   "id": "87fdba90",
   "metadata": {},
   "outputs": [
    {
     "name": "stdout",
     "output_type": "stream",
     "text": [
      "hello\n"
     ]
    }
   ],
   "source": [
    "#3\n",
    "d = {'k1':\n",
    "     [1,\n",
    "      2,\n",
    "      3,\n",
    "      {'tricky':\n",
    "       ['oh',\n",
    "        'man',\n",
    "        'inception',\n",
    "        {'target':\n",
    "         [1,\n",
    "          2,\n",
    "          3,\n",
    "          'hello'\n",
    "         ]\n",
    "        }\n",
    "       ]\n",
    "      }\n",
    "     ]\n",
    "    }\n",
    "\n",
    "print(d['k1'][3][\"tricky\"][3]['target'][3])"
   ]
  },
  {
   "cell_type": "code",
   "execution_count": 6,
   "id": "3b2fc3a0",
   "metadata": {},
   "outputs": [
    {
     "name": "stdout",
     "output_type": "stream",
     "text": [
      "[0. 0. 0. 0. 0. 0. 0. 0. 0. 0.]\n",
      "[5. 5. 5. 5. 5. 5. 5. 5. 5. 5.]\n"
     ]
    }
   ],
   "source": [
    "#4.1\n",
    "import numpy as np\n",
    "custom1=np.zeros(10)\n",
    "print(custom1)\n",
    "\n",
    "#4.2\n",
    "custom2=np.ones(10)*5\n",
    "print(custom2)"
   ]
  },
  {
   "cell_type": "code",
   "execution_count": 7,
   "id": "07c38e4f",
   "metadata": {},
   "outputs": [
    {
     "name": "stdout",
     "output_type": "stream",
     "text": [
      "[20 22 24 26 28 30 32 34]\n"
     ]
    }
   ],
   "source": [
    "#5\n",
    "array=np.arange(20,36,2)\n",
    "print(array)"
   ]
  },
  {
   "cell_type": "code",
   "execution_count": 8,
   "id": "5090883e",
   "metadata": {},
   "outputs": [
    {
     "data": {
      "text/plain": [
       "array([[0, 1, 2],\n",
       "       [3, 4, 5],\n",
       "       [6, 7, 8]])"
      ]
     },
     "execution_count": 8,
     "metadata": {},
     "output_type": "execute_result"
    }
   ],
   "source": [
    "#6\n",
    "np.arange(0,9).reshape((3,3))"
   ]
  },
  {
   "cell_type": "code",
   "execution_count": 9,
   "id": "564bc9c6",
   "metadata": {},
   "outputs": [
    {
     "name": "stdout",
     "output_type": "stream",
     "text": [
      "[1 2 3 4 5 6]\n"
     ]
    }
   ],
   "source": [
    "#7\n",
    "a = np.array([1, 2, 3])\n",
    "b = np.array([4, 5, 6])\n",
    "\n",
    "print(np.concatenate((a, b)))"
   ]
  },
  {
   "cell_type": "code",
   "execution_count": 15,
   "id": "4d056957",
   "metadata": {},
   "outputs": [
    {
     "name": "stdout",
     "output_type": "stream",
     "text": [
      "[[3 1]\n",
      " [6 7]\n",
      " [3 2]]\n"
     ]
    }
   ],
   "source": [
    "#8\n",
    "matrix =np.random.randint(10, size=(3,2))\n",
    "print(matrix)"
   ]
  },
  {
   "cell_type": "code",
   "execution_count": 16,
   "id": "a435d3f5",
   "metadata": {},
   "outputs": [
    {
     "name": "stdout",
     "output_type": "stream",
     "text": [
      "2023-01-01 00:00:00\n",
      "2023-01-02 00:00:00\n"
     ]
    }
   ],
   "source": [
    "#9\n",
    "import pandas as pd\n",
    "res= pd.date_range(start ='1-1-2023', \n",
    "         end ='1-2-2023')\n",
    "for val in res:\n",
    "    print(val)"
   ]
  },
  {
   "cell_type": "code",
   "execution_count": 17,
   "id": "d5d25667",
   "metadata": {},
   "outputs": [
    {
     "name": "stdout",
     "output_type": "stream",
     "text": [
      "   A    B   C\n",
      "0  1  aaa  22\n",
      "1  2  bbb  25\n",
      "2  3  ccc  24\n"
     ]
    }
   ],
   "source": [
    "#10\n",
    "lists = [[1, 'aaa', 22], [2, 'bbb', 25], [3, 'ccc', 24]]\n",
    "\n",
    "df = pd.DataFrame(lists, columns =['A','B','C']) \n",
    "print(df)"
   ]
  },
  {
   "cell_type": "code",
   "execution_count": null,
   "id": "504fb1f0",
   "metadata": {},
   "outputs": [],
   "source": []
  }
 ],
 "metadata": {
  "kernelspec": {
   "display_name": "Python 3",
   "language": "python",
   "name": "python3"
  },
  "language_info": {
   "codemirror_mode": {
    "name": "ipython",
    "version": 3
   },
   "file_extension": ".py",
   "mimetype": "text/x-python",
   "name": "python",
   "nbconvert_exporter": "python",
   "pygments_lexer": "ipython3",
   "version": "3.8.8"
  }
 },
 "nbformat": 4,
 "nbformat_minor": 5
}
