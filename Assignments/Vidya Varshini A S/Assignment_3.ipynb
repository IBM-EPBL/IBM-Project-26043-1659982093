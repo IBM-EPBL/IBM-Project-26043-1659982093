{
 "cells": [
  {
   "cell_type": "code",
   "execution_count": 3,
   "id": "3a39f5fa",
   "metadata": {},
   "outputs": [],
   "source": [
    "from tensorflow.keras.preprocessing.image import ImageDataGenerator\n",
    "from tensorflow.keras.models import Sequential\n",
    "from tensorflow.keras.layers import Dense\n",
    "from tensorflow.keras.layers import Convolution2D,MaxPooling2D,Flatten\n",
    "import numpy as np\n",
    "from tensorflow.keras.models import load_model\n",
    "from tensorflow.keras.preprocessing import image"
   ]
  },
  {
   "cell_type": "code",
   "execution_count": 3,
   "id": "5e84c6ec",
   "metadata": {},
   "outputs": [],
   "source": [
    "train_datagen = ImageDataGenerator(rescale= 1./250,horizontal_flip = True,vertical_flip = True,zoom_range = 0.3)"
   ]
  },
  {
   "cell_type": "code",
   "execution_count": null,
   "id": "c180af74",
   "metadata": {},
   "outputs": [],
   "source": [
    "test_datagen = ImageDataGenerator(rescale= 1./250)"
   ]
  },
  {
   "cell_type": "code",
   "execution_count": null,
   "id": "a50b8222",
   "metadata": {
    "scrolled": true
   },
   "outputs": [],
   "source": [
    "x_train = train_datagen.flow_from_directory(r\"C:\\Users\\vidya\\Downloads\\flowers\",target_size = (64,64),class_mode = \"categorical\",batch_size = 24)"
   ]
  },
  {
   "cell_type": "code",
   "execution_count": null,
   "id": "646d8755",
   "metadata": {},
   "outputs": [],
   "source": [
    "x_train.class_indices"
   ]
  },
  {
   "cell_type": "code",
   "execution_count": null,
   "id": "9ba93484",
   "metadata": {},
   "outputs": [],
   "source": [
    "x_test = test_datagen.flow_from_directory(r\"C:\\Users\\vidya\\Downloads\\flowers\",target_size = (64,64),class_mode = \"categorical\",batch_size = 24)"
   ]
  },
  {
   "cell_type": "code",
   "execution_count": null,
   "id": "b0b2091e",
   "metadata": {},
   "outputs": [],
   "source": [
    "x_test.class_indices"
   ]
  },
  {
   "cell_type": "code",
   "execution_count": null,
   "id": "700e83fa",
   "metadata": {},
   "outputs": [],
   "source": [
    "model=Sequential()"
   ]
  },
  {
   "cell_type": "code",
   "execution_count": null,
   "id": "545eacf8",
   "metadata": {},
   "outputs": [],
   "source": [
    "model.add(Convolution2D(32,(3,3),input_shape=(64,64,3),activation='relu'))\n",
    "model.add(MaxPooling2D(pool_size=(2,2)))\n",
    "model.add(Flatten())\n",
    "model.summary()"
   ]
  },
  {
   "cell_type": "code",
   "execution_count": null,
   "id": "4a3cfae8",
   "metadata": {},
   "outputs": [],
   "source": [
    "model.add(Dense(300,activation='relu')) #rectified linear unit activation - output the input directly if it is positive, otherwise, it will output zero.\n",
    "model.add(Dense(150,activation='relu'))"
   ]
  },
  {
   "cell_type": "code",
   "execution_count": null,
   "id": "7209f394",
   "metadata": {},
   "outputs": [],
   "source": [
    "model.add(Dense(5,activation='softmax')) #activation function for multi-class classification problems where class membership is required on more than two class labels.\n",
    "len(x_train)"
   ]
  },
  {
   "cell_type": "code",
   "execution_count": null,
   "id": "4a4c1ec6",
   "metadata": {},
   "outputs": [],
   "source": [
    "model.compile(loss='categorical_crossentropy',optimizer='adam',metrics=['accuracy'])"
   ]
  },
  {
   "cell_type": "code",
   "execution_count": null,
   "id": "aee46905",
   "metadata": {},
   "outputs": [],
   "source": [
    "model.fit(x_train,steps_per_epoch=len(x_train),validation_data=x_test,validation_steps=len(x_test),epochs=10)"
   ]
  },
  {
   "cell_type": "code",
   "execution_count": null,
   "id": "8510e6a5",
   "metadata": {},
   "outputs": [],
   "source": [
    "model.save('IBM_Assignment3.h5')"
   ]
  },
  {
   "cell_type": "code",
   "execution_count": null,
   "id": "94297f51",
   "metadata": {},
   "outputs": [],
   "source": [
    "pwd"
   ]
  },
  {
   "cell_type": "code",
   "execution_count": null,
   "id": "a24261a2",
   "metadata": {},
   "outputs": [],
   "source": [
    "model=load_model('IBM_Assignment3.h5')\n",
    "img=image.load_img(r'C:\\Users\\vidya\\Downloads\\flowers\\tulip/130685040_3c2fcec63e_n.jpg')"
   ]
  },
  {
   "cell_type": "code",
   "execution_count": null,
   "id": "067166cd",
   "metadata": {},
   "outputs": [],
   "source": [
    "img"
   ]
  },
  {
   "cell_type": "code",
   "execution_count": null,
   "id": "8c03ed47",
   "metadata": {},
   "outputs": [],
   "source": [
    "img=image.load_img(r'C:\\Users\\vidya\\Downloads\\flowers\\tulip/130685040_3c2fcec63e_n.jpg',target_size=(64,64))\n",
    "img"
   ]
  },
  {
   "cell_type": "code",
   "execution_count": null,
   "id": "3d312217",
   "metadata": {},
   "outputs": [],
   "source": [
    "x=image.img_to_array(img)\n",
    "x"
   ]
  },
  {
   "cell_type": "code",
   "execution_count": null,
   "id": "8363418e",
   "metadata": {},
   "outputs": [],
   "source": [
    "x=np.expand_dims(x,axis=0)\n",
    "x"
   ]
  },
  {
   "cell_type": "code",
   "execution_count": null,
   "id": "bbed160d",
   "metadata": {},
   "outputs": [],
   "source": [
    "y=np.argmax(model.predict(x),axis=1)\n",
    "y"
   ]
  },
  {
   "cell_type": "code",
   "execution_count": null,
   "id": "8d6fd5ea",
   "metadata": {},
   "outputs": [],
   "source": [
    "x_train.class_indices"
   ]
  },
  {
   "cell_type": "code",
   "execution_count": null,
   "id": "f8a85151",
   "metadata": {},
   "outputs": [],
   "source": [
    "index=['daisy','dandelion','rose','sunflower','tulip']"
   ]
  },
  {
   "cell_type": "code",
   "execution_count": null,
   "id": "0a2fc676",
   "metadata": {},
   "outputs": [],
   "source": [
    "index[y[0]]"
   ]
  }
 ],
 "metadata": {
  "kernelspec": {
   "display_name": "Python 3 (ipykernel)",
   "language": "python",
   "name": "python3"
  },
  "language_info": {
   "codemirror_mode": {
    "name": "ipython",
    "version": 3
   },
   "file_extension": ".py",
   "mimetype": "text/x-python",
   "name": "python",
   "nbconvert_exporter": "python",
   "pygments_lexer": "ipython3",
   "version": "3.9.13"
  }
 },
 "nbformat": 4,
 "nbformat_minor": 5
}
